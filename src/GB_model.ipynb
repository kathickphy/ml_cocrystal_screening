{
 "cells": [
  {
   "cell_type": "code",
   "execution_count": 1,
   "id": "313fc71b",
   "metadata": {},
   "outputs": [],
   "source": [
    "import random\n",
    "import pickle\n",
    "\n",
    "import numpy as np\n",
    "import pandas as pd\n",
    "from matplotlib import pyplot as plt\n",
    "from sklearn.preprocessing import StandardScaler\n",
    "from sklearn.decomposition import PCA\n",
    "from sklearn.ensemble import GradientBoostingClassifier\n",
    "from sklearn.metrics import accuracy_score, precision_score, recall_score, f1_score, classification_report, confusion_matrix, ConfusionMatrixDisplay\n",
    "\n",
    "\n",
    "from extract_data import get_dataset"
   ]
  },
  {
   "cell_type": "code",
   "execution_count": 2,
   "id": "385f112b",
   "metadata": {},
   "outputs": [
    {
     "name": "stdout",
     "output_type": "stream",
     "text": [
      "/opt/anaconda3/envs/cocrystal/lib/python3.12/site-packages/numpy/core/fromnumeric.py:88: RuntimeWarning: overflow encountered in reduce\n",
      "  return ufunc.reduce(obj, axis, dtype, out, **passkwargs)\n",
      "/opt/anaconda3/envs/cocrystal/lib/python3.12/site-packages/numpy/core/fromnumeric.py:88: RuntimeWarning: overflow encountered in reduce\n",
      "  return ufunc.reduce(obj, axis, dtype, out, **passkwargs)\n",
      "Either api or coformer not found. API= 1,2,4-thiadiazole derivative . Coformer= Vanillic acid\n",
      "Either api or coformer not found. API= 4-cyanophenol . Coformer= 1,2-bis(4-dipyridyl)ethane\n",
      "Either api or coformer not found. API= 4-cyanophenol . Coformer= trans-1,2-bis(4-dipyridyl)ethylene\n",
      "Either api or coformer not found. API= bicalutamide . Coformer= trans-1,2-bis(4-dipyridyl)ethylene\n",
      "Either api or coformer not found. API= Flurbiprofen . Coformer= 4,4'-ethylenebipyridine\n",
      "Either api or coformer not found. API= Ibuprofen . Coformer= 4,4'-ethylenbipyridine\n",
      "Either api or coformer not found. API= 3-cyanopyridine . Coformer= 1,2-bis(4-dipyridyl)ethane\n",
      "Either api or coformer not found. API= 3-cyanopyridine . Coformer= trans-1,2-bis(4-dipyridyl)ethylene\n",
      "Either api or coformer not found. API= 4-cyanopyridine . Coformer= 1,2-bis(4-dipyridyl)ethane\n",
      "Either api or coformer not found. API= 4-cyanopyridine . Coformer= trans-1,2-bis(4-dipyridyl)ethylene\n",
      "Either api or coformer not found. API= bicalutamide . Coformer= 1,2-bis(4-dipyridyl)ethane\n",
      "/opt/anaconda3/envs/cocrystal/lib/python3.12/site-packages/numpy/core/fromnumeric.py:88: RuntimeWarning: overflow encountered in reduce\n",
      "  return ufunc.reduce(obj, axis, dtype, out, **passkwargs)\n",
      "/opt/anaconda3/envs/cocrystal/lib/python3.12/site-packages/numpy/core/fromnumeric.py:88: RuntimeWarning: overflow encountered in reduce\n",
      "  return ufunc.reduce(obj, axis, dtype, out, **passkwargs)\n",
      "'1,2,4-thiadiazole derivative'\n",
      "'1,2-bis(4-dipyridyl)ethane'\n",
      "'trans-1,2-bis(4-dipyridyl)ethylene'\n",
      "'trans-1,2-bis(4-dipyridyl)ethylene'\n",
      "\"4,4'-ethylenebipyridine\"\n",
      "\"4,4'-ethylenbipyridine\"\n",
      "'1,2-bis(4-dipyridyl)ethane'\n",
      "'trans-1,2-bis(4-dipyridyl)ethylene'\n",
      "'1,2-bis(4-dipyridyl)ethane'\n",
      "'trans-1,2-bis(4-dipyridyl)ethylene'\n",
      "'1,2-bis(4-dipyridyl)ethane'\n"
     ]
    }
   ],
   "source": [
    "dataset = get_dataset()\n",
    "x_data, y_data = dataset"
   ]
  },
  {
   "cell_type": "code",
   "execution_count": 3,
   "id": "e2652fae",
   "metadata": {},
   "outputs": [],
   "source": [
    "n_components = 200\n",
    "n_estimators = 600\n",
    "max_depth = 4"
   ]
  },
  {
   "cell_type": "code",
   "execution_count": 4,
   "id": "c9acd6f4",
   "metadata": {},
   "outputs": [],
   "source": [
    "scaler = StandardScaler()\n",
    "scaled_data = scaler.fit_transform(x_data.iloc[:,:-2])\n",
    "\n",
    "pca = PCA(n_components=n_components)\n",
    "principal_components = pca.fit_transform(scaled_data)\n",
    "\n",
    "x_data_values = principal_components\n",
    "\n",
    "y_data_values = y_data.iloc[:,:1]\n",
    "\n",
    "random.seed(40)\n",
    "shuffled_indices = random.sample(range(x_data_values.shape[0]),x_data_values.shape[0])\n",
    "test_size = 0.2\n",
    "train_cursor = int(np.floor((1-test_size)*(x_data_values.shape[0])))\n",
    "train_indices = shuffled_indices[:train_cursor]\n",
    "test_indices = shuffled_indices[train_cursor:]\n",
    "\n",
    "x_train = pd.DataFrame(x_data_values[train_indices,:])\n",
    "y_train = y_data_values.iloc[train_indices,:]\n",
    "\n",
    "x_test = pd.DataFrame(x_data_values[test_indices,:])\n",
    "y_test = y_data_values.iloc[test_indices,:]"
   ]
  },
  {
   "cell_type": "code",
   "execution_count": 5,
   "id": "689946f1",
   "metadata": {},
   "outputs": [
    {
     "data": {
      "text/plain": [
       "(0    1024\n",
       " dtype: int64,\n",
       " 0    956\n",
       " dtype: int64)"
      ]
     },
     "execution_count": 5,
     "metadata": {},
     "output_type": "execute_result"
    }
   ],
   "source": [
    "(y_train==1).sum(), (y_train==0).sum()"
   ]
  },
  {
   "cell_type": "code",
   "execution_count": 6,
   "id": "0b051fc9",
   "metadata": {},
   "outputs": [
    {
     "data": {
      "text/plain": [
       "0.9879032258064516"
      ]
     },
     "execution_count": 6,
     "metadata": {},
     "output_type": "execute_result"
    }
   ],
   "source": [
    "gb_clf = GradientBoostingClassifier(n_estimators=n_estimators, learning_rate=0.1, max_depth=max_depth)\n",
    "\n",
    "# gb_clf.fit(x_train, y_train) # To train the model\n",
    "# with open('models/gb_model.pkl', 'wb') as f:\n",
    "#     pickle.dump(gb_clf, f)\n",
    "\n",
    "with open('models/gb_model.pkl', 'rb') as f:\n",
    "    gb_clf = pickle.load(f)\n",
    "\n",
    "y_pred = gb_clf.predict(x_test)\n",
    "\n",
    "accuracy_score(y_test, y_pred)"
   ]
  },
  {
   "cell_type": "code",
   "execution_count": 7,
   "id": "10ea2558",
   "metadata": {},
   "outputs": [
    {
     "data": {
      "text/plain": [
       "0.9959595959595959"
      ]
     },
     "execution_count": 7,
     "metadata": {},
     "output_type": "execute_result"
    }
   ],
   "source": [
    "accuracy_score(y_train, gb_clf.predict(x_train))"
   ]
  },
  {
   "cell_type": "code",
   "execution_count": 8,
   "id": "a61902ea",
   "metadata": {},
   "outputs": [
    {
     "name": "stdout",
     "output_type": "stream",
     "text": [
      "Accuracy: 0.9879032258\n",
      "Precision: 0.984496124\n",
      "Recall: 0.9921875\n",
      "F1-Score: 0.9883268482\n",
      "              precision    recall  f1-score   support\n",
      "\n",
      "           0       0.99      0.98      0.99       240\n",
      "           1       0.98      0.99      0.99       256\n",
      "\n",
      "    accuracy                           0.99       496\n",
      "   macro avg       0.99      0.99      0.99       496\n",
      "weighted avg       0.99      0.99      0.99       496\n",
      "\n"
     ]
    }
   ],
   "source": [
    "r = 10\n",
    "\n",
    "print(\"Accuracy:\", round(accuracy_score(y_test, y_pred),r))\n",
    "print(\"Precision:\", round(precision_score(y_test, y_pred),r))\n",
    "print(\"Recall:\", round(recall_score(y_test, y_pred),r))\n",
    "print(\"F1-Score:\", round(f1_score(y_test, y_pred),r))\n",
    "print(classification_report(y_test, y_pred))"
   ]
  },
  {
   "cell_type": "code",
   "execution_count": 9,
   "metadata": {},
   "outputs": [
    {
     "name": "stdout",
     "output_type": "stream",
     "text": [
      "Confusion Matrix:\n",
      "[[236   4]\n",
      " [  2 254]]\n"
     ]
    },
    {
     "data": {
      "image/png": "[encoded data removed]",
      "text/plain": [
       "<Figure size 640x480 with 2 Axes>"
      ]
     },
     "metadata": {},
     "output_type": "display_data"
    }
   ],
   "source": [
    "cm = confusion_matrix(y_test, y_pred)\n",
    "\n",
    "print(\"Confusion Matrix:\")\n",
    "print(cm)\n",
    "\n",
    "disp = ConfusionMatrixDisplay(confusion_matrix=cm, display_labels=[0, 1])\n",
    "disp.plot(cmap=plt.cm.Blues)\n",
    "plt.title(\"Confusion Matrix\")\n",
    "plt.show()"
   ]
  }
 ],
 "metadata": {
  "kernelspec": {
   "display_name": "cocrystal",
   "language": "python",
   "name": "python3"
  },
  "language_info": {
   "codemirror_mode": {
    "name": "ipython",
    "version": 3
   },
   "file_extension": ".py",
   "mimetype": "text/x-python",
   "name": "python",
   "nbconvert_exporter": "python",
   "pygments_lexer": "ipython3",
   "version": "3.12.7"
  }
 },
 "nbformat": 4,
 "nbformat_minor": 5
}
