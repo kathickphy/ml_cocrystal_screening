{
 "cells": [
  {
   "cell_type": "code",
   "execution_count": null,
   "id": "313fc71b",
   "metadata": {},
   "outputs": [],
   "source": [
    "import random\n",
    "import pickle\n",
    "\n",
    "import numpy as np\n",
    "import pandas as pd\n",
    "from matplotlib import pyplot as plt\n",
    "from sklearn.preprocessing import StandardScaler\n",
    "from sklearn.decomposition import PCA\n",
    "from sklearn.ensemble import RandomForestClassifier\n",
    "from sklearn.metrics import accuracy_score, precision_score, recall_score, f1_score, classification_report, confusion_matrix, ConfusionMatrixDisplay\n",
    "\n",
    "\n",
    "from extract_data import get_dataset"
   ]
  },
  {
   "cell_type": "code",
   "execution_count": 2,
   "id": "385f112b",
   "metadata": {},
   "outputs": [
    {
     "name": "stdout",
     "output_type": "stream",
     "text": [
      "/opt/anaconda3/envs/cocrystal/lib/python3.12/site-packages/numpy/core/fromnumeric.py:88: RuntimeWarning: overflow encountered in reduce\n",
      "  return ufunc.reduce(obj, axis, dtype, out, **passkwargs)\n",
      "/opt/anaconda3/envs/cocrystal/lib/python3.12/site-packages/numpy/core/fromnumeric.py:88: RuntimeWarning: overflow encountered in reduce\n",
      "  return ufunc.reduce(obj, axis, dtype, out, **passkwargs)\n",
      "Either api or coformer not found. API= 1,2,4-thiadiazole derivative . Coformer= Vanillic acid\n",
      "Either api or coformer not found. API= 4-cyanophenol . Coformer= 1,2-bis(4-dipyridyl)ethane\n",
      "Either api or coformer not found. API= 4-cyanophenol . Coformer= trans-1,2-bis(4-dipyridyl)ethylene\n",
      "Either api or coformer not found. API= bicalutamide . Coformer= trans-1,2-bis(4-dipyridyl)ethylene\n",
      "Either api or coformer not found. API= Flurbiprofen . Coformer= 4,4'-ethylenebipyridine\n",
      "Either api or coformer not found. API= Ibuprofen . Coformer= 4,4'-ethylenbipyridine\n",
      "Either api or coformer not found. API= 3-cyanopyridine . Coformer= 1,2-bis(4-dipyridyl)ethane\n",
      "Either api or coformer not found. API= 3-cyanopyridine . Coformer= trans-1,2-bis(4-dipyridyl)ethylene\n",
      "Either api or coformer not found. API= 4-cyanopyridine . Coformer= 1,2-bis(4-dipyridyl)ethane\n",
      "Either api or coformer not found. API= 4-cyanopyridine . Coformer= trans-1,2-bis(4-dipyridyl)ethylene\n",
      "Either api or coformer not found. API= bicalutamide . Coformer= 1,2-bis(4-dipyridyl)ethane\n",
      "/opt/anaconda3/envs/cocrystal/lib/python3.12/site-packages/numpy/core/fromnumeric.py:88: RuntimeWarning: overflow encountered in reduce\n",
      "  return ufunc.reduce(obj, axis, dtype, out, **passkwargs)\n",
      "/opt/anaconda3/envs/cocrystal/lib/python3.12/site-packages/numpy/core/fromnumeric.py:88: RuntimeWarning: overflow encountered in reduce\n",
      "  return ufunc.reduce(obj, axis, dtype, out, **passkwargs)\n",
      "'1,2,4-thiadiazole derivative'\n",
      "'1,2-bis(4-dipyridyl)ethane'\n",
      "'trans-1,2-bis(4-dipyridyl)ethylene'\n",
      "'trans-1,2-bis(4-dipyridyl)ethylene'\n",
      "\"4,4'-ethylenebipyridine\"\n",
      "\"4,4'-ethylenbipyridine\"\n",
      "'1,2-bis(4-dipyridyl)ethane'\n",
      "'trans-1,2-bis(4-dipyridyl)ethylene'\n",
      "'1,2-bis(4-dipyridyl)ethane'\n",
      "'trans-1,2-bis(4-dipyridyl)ethylene'\n",
      "'1,2-bis(4-dipyridyl)ethane'\n"
     ]
    }
   ],
   "source": [
    "dataset = get_dataset()\n",
    "x_data, y_data = dataset"
   ]
  },
  {
   "cell_type": "code",
   "execution_count": 3,
   "id": "e2652fae",
   "metadata": {},
   "outputs": [],
   "source": [
    "n_components = 200\n",
    "n_estimators = 50\n",
    "max_depth = 4\n",
    "min_samples_leaf = 1"
   ]
  },
  {
   "cell_type": "code",
   "execution_count": 4,
   "id": "c9acd6f4",
   "metadata": {},
   "outputs": [],
   "source": [
    "scaler = StandardScaler()\n",
    "scaled_data = scaler.fit_transform(x_data.iloc[:,:-2])\n",
    "\n",
    "pca = PCA(n_components=n_components)\n",
    "principal_components = pca.fit_transform(scaled_data)\n",
    "\n",
    "x_data_values = principal_components\n",
    "\n",
    "y_data_values = y_data.iloc[:,:1]\n",
    "\n",
    "random.seed(42)\n",
    "shuffled_indices = random.sample(range(x_data_values.shape[0]),x_data_values.shape[0])\n",
    "test_size = 0.2\n",
    "train_cursor = int(np.floor((1-test_size)*(x_data_values.shape[0])))\n",
    "train_indices = shuffled_indices[:train_cursor]\n",
    "test_indices = shuffled_indices[train_cursor:]\n",
    "\n",
    "x_train = pd.DataFrame(x_data_values[train_indices,:])\n",
    "y_train = y_data_values.iloc[train_indices,:]\n",
    "\n",
    "x_test = pd.DataFrame(x_data_values[test_indices,:])\n",
    "y_test = y_data_values.iloc[test_indices,:]"
   ]
  },
  {
   "cell_type": "code",
   "execution_count": null,
   "id": "0b051fc9",
   "metadata": {},
   "outputs": [
    {
     "name": "stderr",
     "output_type": "stream",
     "text": [
      "/opt/anaconda3/envs/cocrystal/lib/python3.12/site-packages/sklearn/base.py:1473: DataConversionWarning: A column-vector y was passed when a 1d array was expected. Please change the shape of y to (n_samples,), for example using ravel().\n",
      "  return fit_method(estimator, *args, **kwargs)\n"
     ]
    },
    {
     "data": {
      "text/plain": [
       "0.8125"
      ]
     },
     "execution_count": 6,
     "metadata": {},
     "output_type": "execute_result"
    }
   ],
   "source": [
    "rf_model = RandomForestClassifier(n_estimators = 50, max_depth = max_depth, min_samples_leaf = min_samples_leaf)\n",
    "\n",
    "# rf_model.fit(x_train, y_train) # To train the model\n",
    "# with open('models/rf_model.pkl', 'wb') as f:\n",
    "#     pickle.dump(rf_model, f)\n",
    "\n",
    "with open('models/rf_model.pkl', 'rb') as f:\n",
    "    rf_model = pickle.load(f)\n",
    "\n",
    "y_pred = rf_model.predict(x_test)\n",
    "\n",
    "accuracy_score(y_test, y_pred)"
   ]
  },
  {
   "cell_type": "code",
   "execution_count": 7,
   "id": "10ea2558",
   "metadata": {},
   "outputs": [
    {
     "data": {
      "text/plain": [
       "0.8494949494949495"
      ]
     },
     "execution_count": 7,
     "metadata": {},
     "output_type": "execute_result"
    }
   ],
   "source": [
    "accuracy_score(y_train, rf_model.predict(x_train))"
   ]
  },
  {
   "cell_type": "code",
   "execution_count": 8,
   "id": "a61902ea",
   "metadata": {},
   "outputs": [
    {
     "name": "stdout",
     "output_type": "stream",
     "text": [
      "Accuracy: 0.8125\n",
      "Precision: 0.7554744526\n",
      "Recall: 0.8884120172\n",
      "F1-Score: 0.8165680473\n",
      "              precision    recall  f1-score   support\n",
      "\n",
      "           0       0.88      0.75      0.81       263\n",
      "           1       0.76      0.89      0.82       233\n",
      "\n",
      "    accuracy                           0.81       496\n",
      "   macro avg       0.82      0.82      0.81       496\n",
      "weighted avg       0.82      0.81      0.81       496\n",
      "\n"
     ]
    }
   ],
   "source": [
    "r = 10\n",
    "\n",
    "print(\"Accuracy:\", round(accuracy_score(y_test, y_pred),r))\n",
    "print(\"Precision:\", round(precision_score(y_test, y_pred),r))\n",
    "print(\"Recall:\", round(recall_score(y_test, y_pred),r))\n",
    "print(\"F1-Score:\", round(f1_score(y_test, y_pred),r))\n",
    "print(classification_report(y_test, y_pred))"
   ]
  },
  {
   "cell_type": "code",
   "execution_count": 9,
   "metadata": {},
   "outputs": [
    {
     "name": "stdout",
     "output_type": "stream",
     "text": [
      "Confusion Matrix:\n",
      "[[196  67]\n",
      " [ 26 207]]\n"
     ]
    },
    {
     "data": {
      "image/png": "[encoded data removed]",
      "text/plain": [
       "<Figure size 640x480 with 2 Axes>"
      ]
     },
     "metadata": {},
     "output_type": "display_data"
    }
   ],
   "source": [
    "cm = confusion_matrix(y_test, y_pred)\n",
    "\n",
    "print(\"Confusion Matrix:\")\n",
    "print(cm)\n",
    "\n",
    "disp = ConfusionMatrixDisplay(confusion_matrix=cm, display_labels=[0, 1])\n",
    "disp.plot(cmap=plt.cm.Blues)\n",
    "plt.title(\"Confusion Matrix\")\n",
    "plt.show()"
   ]
  }
 ],
 "metadata": {
  "kernelspec": {
   "display_name": "cocrystal",
   "language": "python",
   "name": "python3"
  },
  "language_info": {
   "codemirror_mode": {
    "name": "ipython",
    "version": 3
   },
   "file_extension": ".py",
   "mimetype": "text/x-python",
   "name": "python",
   "nbconvert_exporter": "python",
   "pygments_lexer": "ipython3",
   "version": "3.12.7"
  }
 },
 "nbformat": 4,
 "nbformat_minor": 5
}
